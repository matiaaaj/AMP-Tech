{
  "nbformat": 4,
  "nbformat_minor": 0,
  "metadata": {
    "colab": {
      "name": "BreveTutorial_JSON_XML.ipynb",
      "provenance": [],
      "collapsed_sections": [],
      "include_colab_link": true
    },
    "kernelspec": {
      "name": "python3",
      "display_name": "Python 3"
    },
    "language_info": {
      "name": "python"
    }
  },
  "cells": [
    {
      "cell_type": "markdown",
      "metadata": {
        "id": "view-in-github",
        "colab_type": "text"
      },
      "source": [
        "<a href=\"https://colab.research.google.com/github/matiaaaj/AMP-Tech/blob/master/BreveTutorial_JSON_XML.ipynb\" target=\"_parent\"><img src=\"https://colab.research.google.com/assets/colab-badge.svg\" alt=\"Open In Colab\"/></a>"
      ]
    },
    {
      "cell_type": "markdown",
      "metadata": {
        "id": "vvmbsSdttJYF"
      },
      "source": [
        "# Formato de datos de APIs\n",
        "\n",
        "Típicamente, las APIs devuelven datos en dos formatos: json y xml. Ambos formatos son igual de válidos. Una ventaja del formato json es que permite manejar listas de datos.\n",
        "\n",
        "\n",
        "### Formato JSON\n",
        "\n",
        "El formato json es muy similar a los diccionarios de python, por lo que nos va a ser bastante familiar. Una buena referencia sobre este formato es este [tutorial](https://www.w3schools.com/js/js_json_intro.asp). Los datos corresponden a información de papers obtenida de la API de [Scopus](https://www.scopus.com/home.uri). Para leer los datos vamos a utilizar la librería de python denominada simplemente [**json**](https://www.w3schools.com/python/python_json.asp)."
      ]
    },
    {
      "cell_type": "code",
      "metadata": {
        "colab": {
          "base_uri": "https://localhost:8080/"
        },
        "id": "92ugufrSe_xO",
        "outputId": "68939b3d-73bd-46df-a6bf-0a00d82bc2fd"
      },
      "source": [
        "# Montamos el drive para los archivos\n",
        "from google.colab import drive\n",
        "drive.mount('/content/drive')"
      ],
      "execution_count": null,
      "outputs": [
        {
          "output_type": "stream",
          "text": [
            "Drive already mounted at /content/drive; to attempt to forcibly remount, call drive.mount(\"/content/drive\", force_remount=True).\n"
          ],
          "name": "stdout"
        }
      ]
    },
    {
      "cell_type": "markdown",
      "metadata": {
        "id": "5yYkm1VfycI2"
      },
      "source": [
        "##### Lectura de los datos"
      ]
    },
    {
      "cell_type": "code",
      "metadata": {
        "id": "X0hyzyYbkE1U"
      },
      "source": [
        "# Importamos la librería que nos va a permitir leer .json\n",
        "import json"
      ],
      "execution_count": null,
      "outputs": []
    },
    {
      "cell_type": "code",
      "metadata": {
        "id": "YBi7Xo9Akj-c"
      },
      "source": [
        "# Abrimos el archivo con la opción de leer (read) y efectivamente lo leemos\n",
        "json_text = open('/content/drive/My Drive/LaboDatos2021/data_tutorial.json', 'r').read()"
      ],
      "execution_count": null,
      "outputs": []
    },
    {
      "cell_type": "markdown",
      "metadata": {
        "id": "SROVnW92wyEo"
      },
      "source": [
        "Veamos cómo se ve el archivo json:"
      ]
    },
    {
      "cell_type": "code",
      "metadata": {
        "colab": {
          "base_uri": "https://localhost:8080/"
        },
        "id": "v7LhmqmNknMe",
        "outputId": "fac036b5-2878-4299-876a-a19a3a2679b8"
      },
      "source": [
        "print(json_text)"
      ],
      "execution_count": null,
      "outputs": [
        {
          "output_type": "stream",
          "text": [
            "[\n",
            "    {\n",
            "        \"@_fa\": \"true\", \n",
            "        \"affiliation\": [\n",
            "            {\n",
            "                \"@_fa\": \"true\", \n",
            "                \"affiliation-city\": \"Sendai\", \n",
            "                \"affiliation-country\": \"Japan\", \n",
            "                \"affiliation-url\": \"https://api.elsevier.com/content/affiliation/affiliation_id/60008435\", \n",
            "                \"affilname\": \"Tohoku University\", \n",
            "                \"afid\": \"60008435\"\n",
            "            }\n",
            "        ], \n",
            "        \"author\": [\n",
            "            {\n",
            "                \"@_fa\": \"true\", \n",
            "                \"@seq\": \"1\", \n",
            "                \"afid\": [\n",
            "                    {\n",
            "                        \"$\": \"60008435\", \n",
            "                        \"@_fa\": \"true\"\n",
            "                    }\n",
            "                ], \n",
            "                \"authid\": \"56587183800\", \n",
            "                \"authname\": \"Takahashi S.\", \n",
            "                \"author-url\": \"https://api.elsevier.com/content/author/author_id/56587183800\", \n",
            "                \"given-name\": \"Shuntaro\", \n",
            "                \"initials\": \"S.\", \n",
            "                \"surname\": \"Takahashi\"\n",
            "            }, \n",
            "            {\n",
            "                \"@_fa\": \"true\", \n",
            "                \"@seq\": \"2\", \n",
            "                \"afid\": [\n",
            "                    {\n",
            "                        \"$\": \"60008435\", \n",
            "                        \"@_fa\": \"true\"\n",
            "                    }\n",
            "                ], \n",
            "                \"authid\": \"7403938886\", \n",
            "                \"authname\": \"Takahashi N.\", \n",
            "                \"author-url\": \"https://api.elsevier.com/content/author/author_id/7403938886\", \n",
            "                \"given-name\": \"Naoki\", \n",
            "                \"initials\": \"N.\", \n",
            "                \"surname\": \"Takahashi\"\n",
            "            }, \n",
            "            {\n",
            "                \"@_fa\": \"true\", \n",
            "                \"@seq\": \"3\", \n",
            "                \"afid\": [\n",
            "                    {\n",
            "                        \"$\": \"60008435\", \n",
            "                        \"@_fa\": \"true\"\n",
            "                    }\n",
            "                ], \n",
            "                \"authid\": \"56649714800\", \n",
            "                \"authname\": \"Todoroki N.\", \n",
            "                \"author-url\": \"https://api.elsevier.com/content/author/author_id/56649714800\", \n",
            "                \"given-name\": \"Naoto\", \n",
            "                \"initials\": \"N.\", \n",
            "                \"surname\": \"Todoroki\"\n",
            "            }, \n",
            "            {\n",
            "                \"@_fa\": \"true\", \n",
            "                \"@seq\": \"4\", \n",
            "                \"afid\": [\n",
            "                    {\n",
            "                        \"$\": \"60008435\", \n",
            "                        \"@_fa\": \"true\"\n",
            "                    }\n",
            "                ], \n",
            "                \"authid\": \"7006154275\", \n",
            "                \"authname\": \"Wadayama T.\", \n",
            "                \"author-url\": \"https://api.elsevier.com/content/author/author_id/7006154275\", \n",
            "                \"given-name\": \"Toshimasa\", \n",
            "                \"initials\": \"T.\", \n",
            "                \"surname\": \"Wadayama\"\n",
            "            }\n",
            "        ], \n",
            "        \"dc:description\": \"Voltammetric dealloying is a typical method to synthesize Pt-shell/less-noble metal (M) alloy core nanoparticles (NPs) toward the oxygen reduction reaction (ORR). The pristine nanostructures of the Pt-M alloy NPs should determine the ORR activity of the dealloyed NPs. In this study, we investigated the voltammetric dealloying behavior of the Pt-Co and nitrogenintroduced Pt-Co alloy NPs generated by synchronous arc-plasma deposition of Pt and Co. The results showed that the dealloying behavior is sensitive to cobalt nitride in the pristine NPs, leading to the preferential generation of a Pt-rich shell/Pt-Co alloy core architecture having enhanced ORR activity.\", \n",
            "        \"dc:title\": \"Dealloying of nitrogen-introduced pt-co alloy nanoparticles: Preferential core-shell formation with enhanced activity for oxygen reduction reaction\", \n",
            "        \"prism:coverDate\": \"2016-12-31\", \n",
            "        \"prism:doi\": \"10.1021/acsomega.6b00412\", \n",
            "        \"prism:eIssn\": \"24701343\", \n",
            "        \"prism:url\": \"https://api.elsevier.com/content/abstract/scopus_id/85019347095\"\n",
            "    }, \n",
            "    {\n",
            "        \"@_fa\": \"true\", \n",
            "        \"affiliation\": [\n",
            "            {\n",
            "                \"@_fa\": \"true\", \n",
            "                \"affiliation-city\": \"Kerman\", \n",
            "                \"affiliation-country\": \"Iran\", \n",
            "                \"affiliation-url\": \"https://api.elsevier.com/content/affiliation/affiliation_id/60138498\", \n",
            "                \"affilname\": \"Graduate University of Advanced Technology\", \n",
            "                \"afid\": \"60138498\"\n",
            "            }, \n",
            "            {\n",
            "                \"@_fa\": \"true\", \n",
            "                \"affiliation-city\": \"Tehran\", \n",
            "                \"affiliation-country\": \"Iran\", \n",
            "                \"affiliation-url\": \"https://api.elsevier.com/content/affiliation/affiliation_id/60027546\", \n",
            "                \"affilname\": \"Payame Noor University\", \n",
            "                \"afid\": \"60027546\"\n",
            "            }\n",
            "        ], \n",
            "        \"authkeywords\": \"Drug analysis | Ionic liquids | Isoproterenol | Magnetic core-shell nanoparticles\", \n",
            "        \"author\": [\n",
            "            {\n",
            "                \"@_fa\": \"true\", \n",
            "                \"@seq\": \"1\", \n",
            "                \"afid\": [\n",
            "                    {\n",
            "                        \"$\": \"60027546\", \n",
            "                        \"@_fa\": \"true\"\n",
            "                    }\n",
            "                ], \n",
            "                \"authid\": \"57203777605\", \n",
            "                \"authname\": \"Mohammadi S.Z.\", \n",
            "                \"author-url\": \"https://api.elsevier.com/content/author/author_id/57203777605\", \n",
            "                \"given-name\": \"Sayed Zia\", \n",
            "                \"initials\": \"S.Z.\", \n",
            "                \"surname\": \"Mohammadi\"\n",
            "            }, \n",
            "            {\n",
            "                \"@_fa\": \"true\", \n",
            "                \"@seq\": \"2\", \n",
            "                \"afid\": [\n",
            "                    {\n",
            "                        \"$\": \"60138498\", \n",
            "                        \"@_fa\": \"true\"\n",
            "                    }\n",
            "                ], \n",
            "                \"authid\": \"24168001700\", \n",
            "                \"authname\": \"Beitollahi H.\", \n",
            "                \"author-url\": \"https://api.elsevier.com/content/author/author_id/24168001700\", \n",
            "                \"given-name\": \"Hadi\", \n",
            "                \"initials\": \"H.\", \n",
            "                \"surname\": \"Beitollahi\"\n",
            "            }, \n",
            "            {\n",
            "                \"@_fa\": \"true\", \n",
            "                \"@seq\": \"3\", \n",
            "                \"afid\": [\n",
            "                    {\n",
            "                        \"$\": \"60027546\", \n",
            "                        \"@_fa\": \"true\"\n",
            "                    }\n",
            "                ], \n",
            "                \"authid\": \"57192837466\", \n",
            "                \"authname\": \"Afzali H.\", \n",
            "                \"author-url\": \"https://api.elsevier.com/content/author/author_id/57192837466\", \n",
            "                \"given-name\": \"Hakimeh\", \n",
            "                \"initials\": \"H.\", \n",
            "                \"surname\": \"Afzali\"\n",
            "            }\n",
            "        ], \n",
            "        \"dc:description\": \"A new isoproterenol electrochemical nano sensor was fabricated using a acarbon paste electrode modified with ionic liquid (n-hexyl-3-methylimidazolium hexafluoro phosphate) and magnetic core-shell nanoparticles (MCSILCPE). The electrochemical study of the modified electrode, as well as its efficiency for oxidation of isoproterenol, is described. Differential pulse voltammetry (DPV) exhibits a linear dynamic range from 1.0\\u00d710  to 7.0\\u00d710  M isoproterenol. The limit of detection was equal to 6.3\\u00d710  M. The electrode was also employed to determination of isoproterenol in real samples. -6 \\u22124 -7\", \n",
            "        \"dc:title\": \"A novel electrochemical nanosensor for voltammetric determination of isoproterenol\", \n",
            "        \"prism:coverDate\": \"2016-12-31\", \n",
            "        \"prism:eIssn\": \"20084226\", \n",
            "        \"prism:url\": \"https://api.elsevier.com/content/abstract/scopus_id/85008423039\"\n",
            "    }, \n",
            "    {\n",
            "        \"@_fa\": \"true\", \n",
            "        \"affiliation\": [\n",
            "            {\n",
            "                \"@_fa\": \"true\", \n",
            "                \"affiliation-city\": \"Kumasi\", \n",
            "                \"affiliation-country\": \"Ghana\", \n",
            "                \"affiliation-url\": \"https://api.elsevier.com/content/affiliation/affiliation_id/60071885\", \n",
            "                \"affilname\": \"Kwame Nkrumah University of Science and Technology\", \n",
            "                \"afid\": \"60071885\"\n",
            "            }, \n",
            "            {\n",
            "                \"@_fa\": \"true\", \n",
            "                \"affiliation-city\": \"Nantes\", \n",
            "                \"affiliation-country\": \"France\", \n",
            "                \"affiliation-url\": \"https://api.elsevier.com/content/affiliation/affiliation_id/60032006\", \n",
            "                \"affilname\": \"Universit\\u00e9 de Nantes\", \n",
            "                \"afid\": \"60032006\"\n",
            "            }, \n",
            "            {\n",
            "                \"@_fa\": \"true\", \n",
            "                \"affiliation-city\": \"Trieste\", \n",
            "                \"affiliation-country\": \"Italy\", \n",
            "                \"affiliation-url\": \"https://api.elsevier.com/content/affiliation/affiliation_id/60031745\", \n",
            "                \"affilname\": \"Abdus Salam International Centre for Theoretical Physics\", \n",
            "                \"afid\": \"60031745\"\n",
            "            }, \n",
            "            {\n",
            "                \"@_fa\": \"true\", \n",
            "                \"affiliation-city\": \"Accra\", \n",
            "                \"affiliation-country\": \"Ghana\", \n",
            "                \"affiliation-url\": \"https://api.elsevier.com/content/affiliation/affiliation_id/60017910\", \n",
            "                \"affilname\": \"University of Ghana\", \n",
            "                \"afid\": \"60017910\"\n",
            "            }, \n",
            "            {\n",
            "                \"@_fa\": \"true\", \n",
            "                \"affiliation-city\": \"Newcastle\", \n",
            "                \"affiliation-country\": \"United Kingdom\", \n",
            "                \"affiliation-url\": \"https://api.elsevier.com/content/affiliation/affiliation_id/60006222\", \n",
            "                \"affilname\": \"Newcastle University\", \n",
            "                \"afid\": \"60006222\"\n",
            "            }\n",
            "        ], \n",
            "        \"authkeywords\": \"carbon nanomaterials | DFT | LDA | polybromides\", \n",
            "        \"author\": [\n",
            "            {\n",
            "                \"@_fa\": \"true\", \n",
            "                \"@seq\": \"1\", \n",
            "                \"afid\": [\n",
            "                    {\n",
            "                        \"$\": \"60017910\", \n",
            "                        \"@_fa\": \"true\"\n",
            "                    }, \n",
            "                    {\n",
            "                        \"$\": \"60032006\", \n",
            "                        \"@_fa\": \"true\"\n",
            "                    }\n",
            "                ], \n",
            "                \"authid\": \"36674204900\", \n",
            "                \"authname\": \"Yaya A.\", \n",
            "                \"author-url\": \"https://api.elsevier.com/content/author/author_id/36674204900\", \n",
            "                \"given-name\": \"A.\", \n",
            "                \"initials\": \"A.\", \n",
            "                \"surname\": \"Yaya\"\n",
            "            }, \n",
            "            {\n",
            "                \"@_fa\": \"true\", \n",
            "                \"@seq\": \"2\", \n",
            "                \"afid\": [\n",
            "                    {\n",
            "                        \"$\": \"60032006\", \n",
            "                        \"@_fa\": \"true\"\n",
            "                    }\n",
            "                ], \n",
            "                \"authid\": \"7004436573\", \n",
            "                \"authname\": \"Ewels C.P.\", \n",
            "                \"author-url\": \"https://api.elsevier.com/content/author/author_id/7004436573\", \n",
            "                \"given-name\": \"C. P.\", \n",
            "                \"initials\": \"C.P.\", \n",
            "                \"surname\": \"Ewels\"\n",
            "            }, \n",
            "            {\n",
            "                \"@_fa\": \"true\", \n",
            "                \"@seq\": \"3\", \n",
            "                \"afid\": [\n",
            "                    {\n",
            "                        \"$\": \"60017910\", \n",
            "                        \"@_fa\": \"true\"\n",
            "                    }\n",
            "                ], \n",
            "                \"authid\": \"9432632100\", \n",
            "                \"authname\": \"Efavi J.K.\", \n",
            "                \"author-url\": \"https://api.elsevier.com/content/author/author_id/9432632100\", \n",
            "                \"given-name\": \"J. K.\", \n",
            "                \"initials\": \"J.K.\", \n",
            "                \"surname\": \"Efavi\"\n",
            "            }, \n",
            "            {\n",
            "                \"@_fa\": \"true\", \n",
            "                \"@seq\": \"4\", \n",
            "                \"afid\": [\n",
            "                    {\n",
            "                        \"$\": \"60017910\", \n",
            "                        \"@_fa\": \"true\"\n",
            "                    }\n",
            "                ], \n",
            "                \"authid\": \"26325449500\", \n",
            "                \"authname\": \"Agyei-Tuffour B.\", \n",
            "                \"author-url\": \"https://api.elsevier.com/content/author/author_id/26325449500\", \n",
            "                \"given-name\": \"B.\", \n",
            "                \"initials\": \"B.\", \n",
            "                \"surname\": \"Agyei-Tuffour\"\n",
            "            }, \n",
            "            {\n",
            "                \"@_fa\": \"true\", \n",
            "                \"@seq\": \"5\", \n",
            "                \"afid\": [\n",
            "                    {\n",
            "                        \"$\": \"60017910\", \n",
            "                        \"@_fa\": \"true\"\n",
            "                    }\n",
            "                ], \n",
            "                \"authid\": \"56458820500\", \n",
            "                \"authname\": \"Kan-Dapaah K.\", \n",
            "                \"author-url\": \"https://api.elsevier.com/content/author/author_id/56458820500\", \n",
            "                \"given-name\": \"K.\", \n",
            "                \"initials\": \"K.\", \n",
            "                \"surname\": \"Kan-Dapaah\"\n",
            "            }, \n",
            "            {\n",
            "                \"@_fa\": \"true\", \n",
            "                \"@seq\": \"6\", \n",
            "                \"afid\": [\n",
            "                    {\n",
            "                        \"$\": \"60017910\", \n",
            "                        \"@_fa\": \"true\"\n",
            "                    }\n",
            "                ], \n",
            "                \"authid\": \"57194620819\", \n",
            "                \"authname\": \"Onwona-Agyeman B.\", \n",
            "                \"author-url\": \"https://api.elsevier.com/content/author/author_id/57194620819\", \n",
            "                \"given-name\": \"B.\", \n",
            "                \"initials\": \"B.\", \n",
            "                \"surname\": \"Onwona-Agyeman\"\n",
            "            }, \n",
            "            {\n",
            "                \"@_fa\": \"true\", \n",
            "                \"@seq\": \"7\", \n",
            "                \"afid\": [\n",
            "                    {\n",
            "                        \"$\": \"60071885\", \n",
            "                        \"@_fa\": \"true\"\n",
            "                    }\n",
            "                ], \n",
            "                \"authid\": \"16028109500\", \n",
            "                \"authname\": \"Abavare E.K.K.\", \n",
            "                \"author-url\": \"https://api.elsevier.com/content/author/author_id/16028109500\", \n",
            "                \"given-name\": \"E. K.K.\", \n",
            "                \"initials\": \"E.K.K.\", \n",
            "                \"surname\": \"Abavare\"\n",
            "            }, \n",
            "            {\n",
            "                \"@_fa\": \"true\", \n",
            "                \"@seq\": \"8\", \n",
            "                \"afid\": [\n",
            "                    {\n",
            "                        \"$\": \"60031745\", \n",
            "                        \"@_fa\": \"true\"\n",
            "                    }\n",
            "                ], \n",
            "                \"authid\": \"14024511600\", \n",
            "                \"authname\": \"Hassanali A.\", \n",
            "                \"author-url\": \"https://api.elsevier.com/content/author/author_id/14024511600\", \n",
            "                \"given-name\": \"Ali\", \n",
            "                \"initials\": \"A.\", \n",
            "                \"surname\": \"Hassanali\"\n",
            "            }, \n",
            "            {\n",
            "                \"@_fa\": \"true\", \n",
            "                \"@seq\": \"9\", \n",
            "                \"afid\": [\n",
            "                    {\n",
            "                        \"$\": \"60006222\", \n",
            "                        \"@_fa\": \"true\"\n",
            "                    }\n",
            "                ], \n",
            "                \"authid\": \"57202724892\", \n",
            "                \"authname\": \"Briddon P.R.\", \n",
            "                \"author-url\": \"https://api.elsevier.com/content/author/author_id/57202724892\", \n",
            "                \"given-name\": \"P. R.\", \n",
            "                \"initials\": \"P.R.\", \n",
            "                \"surname\": \"Briddon\"\n",
            "            }\n",
            "        ], \n",
            "        \"dc:description\": \"We use a density functional theory approach under the local density approximation (DFT/LDA) to describe the formation of polybromide chain structures, their stretching frequency modes and charge transfer induced by the interaction of these molecules with a graphene sheet. In many cases, we find polybromides to be more thermodynamically stable than the equivalent Br  molecular structures adsorbed on graphene sheet. This results in lower frequency stretch modes at around 170\\u2013190\\u00a0cm . We propose that these are rarely observed experimentally due to the bromination techniques used, which introduces molecular Br  into the carbon host material. Charge transfer with their host material means that these molecules and their associated hole charge in the neighbouring carbon materials, are then coulombically repelled from other bromine molecules which acts as a barrier to combination into polybromides. Our calculated barrier for polybromide formation (2Br \\u2192Br ) on a graphene sheet was 0.35\\u00a0eV which is an exothermic process with an enthalpy value of \\u22120.28\\u00a0eV. Therefore, thermodynamically, chain polybromide formation seems to be favourable but kinetically, is unlikely, since there is an activation barrier that needs to be overcome to give stable bromine chain structures. 2 2 2 4 \\u22121\", \n",
            "        \"dc:title\": \"A study of polybromide chain formation using carbon nanomaterials via density functional theory approach\", \n",
            "        \"prism:coverDate\": \"2016-12-31\", \n",
            "        \"prism:doi\": \"10.1080/23311916.2016.1261509\", \n",
            "        \"prism:eIssn\": \"23311916\", \n",
            "        \"prism:url\": \"https://api.elsevier.com/content/abstract/scopus_id/85012887357\"\n",
            "    }, \n",
            "    {\n",
            "        \"@_fa\": \"true\", \n",
            "        \"affiliation\": [\n",
            "            {\n",
            "                \"@_fa\": \"true\", \n",
            "                \"affiliation-city\": \"Munich\", \n",
            "                \"affiliation-country\": \"Germany\", \n",
            "                \"affiliation-url\": \"https://api.elsevier.com/content/affiliation/affiliation_id/60019722\", \n",
            "                \"affilname\": \"Technical University of Munich\", \n",
            "                \"afid\": \"60019722\"\n",
            "            }, \n",
            "            {\n",
            "                \"@_fa\": \"true\", \n",
            "                \"affiliation-city\": \"Ludwigshafen\", \n",
            "                \"affiliation-country\": \"Germany\", \n",
            "                \"affiliation-url\": \"https://api.elsevier.com/content/affiliation/affiliation_id/60007616\", \n",
            "                \"affilname\": \"BASF SE\", \n",
            "                \"afid\": \"60007616\"\n",
            "            }\n",
            "        ], \n",
            "        \"author\": [\n",
            "            {\n",
            "                \"@_fa\": \"true\", \n",
            "                \"@seq\": \"1\", \n",
            "                \"afid\": [\n",
            "                    {\n",
            "                        \"$\": \"60019722\", \n",
            "                        \"@_fa\": \"true\"\n",
            "                    }\n",
            "                ], \n",
            "                \"authid\": \"55774440700\", \n",
            "                \"authname\": \"Soller B.\", \n",
            "                \"author-url\": \"https://api.elsevier.com/content/author/author_id/55774440700\", \n",
            "                \"given-name\": \"Benedikt S.\", \n",
            "                \"initials\": \"B.S.\", \n",
            "                \"surname\": \"Soller\"\n",
            "            }, \n",
            "            {\n",
            "                \"@_fa\": \"true\", \n",
            "                \"@seq\": \"2\", \n",
            "                \"afid\": [\n",
            "                    {\n",
            "                        \"$\": \"60007616\", \n",
            "                        \"@_fa\": \"true\"\n",
            "                    }\n",
            "                ], \n",
            "                \"authid\": \"47861422900\", \n",
            "                \"authname\": \"Salzinger S.\", \n",
            "                \"author-url\": \"https://api.elsevier.com/content/author/author_id/47861422900\", \n",
            "                \"given-name\": \"Stephan\", \n",
            "                \"initials\": \"S.\", \n",
            "                \"surname\": \"Salzinger\"\n",
            "            }, \n",
            "            {\n",
            "                \"@_fa\": \"true\", \n",
            "                \"@seq\": \"3\", \n",
            "                \"afid\": [\n",
            "                    {\n",
            "                        \"$\": \"60019722\", \n",
            "                        \"@_fa\": \"true\"\n",
            "                    }\n",
            "                ], \n",
            "                \"authid\": \"55169244500\", \n",
            "                \"authname\": \"Rieger B.\", \n",
            "                \"author-url\": \"https://api.elsevier.com/content/author/author_id/55169244500\", \n",
            "                \"given-name\": \"Bernhard\", \n",
            "                \"initials\": \"B.\", \n",
            "                \"surname\": \"Rieger\"\n",
            "            }\n",
            "        ], \n",
            "        \"dc:description\": \"This review focuses on introducing and explaining the rare earth metalmediated group transfer polymerization (REM-GTP) of polar monomers and is composed of three main sections: poly(vinylphosphonate)s, surface-initiated group transfer polymerization (SI-GTP), and extension to N-coordinating Michael-Type monomers (2-vinylpridine (2VP), 2-isopropenyl-2-oxazoline (IPOx)). The poly-(vinylphosphonate)s section is divided into two parts: radical, anionic, and silyl ketene acetal group transfer polymerization (SKA-GTP) of vinylphosphonates in comparison to REM-GTP, and properties of poly(vinylphosphonate)s. The mechanism of vinylphosphonate REM-GTP is discussed in detail for initiation and propagation including activation enthalpies \\u03b4H and entropies \\u03b4S according to the Eyring equation. SI-GTP is presented as a method for surface functionalization, and recent trends for 2VP and IPOx polymerization are summarized. This review will serve as a good resource or guideline for researchers who are currently working in the field of rare earth metal mediated polymerization catalysis as well as for those who are interested in beginning to employ rare earth metal complexes for the synthesis of new materials from polar monomers.\", \n",
            "        \"dc:title\": \"Rare earth metal-mediated precision polymerization of vinylphosphonates and conjugated nitrogen-containing vinyl monomers\", \n",
            "        \"prism:coverDate\": \"2016-12-31\", \n",
            "        \"prism:doi\": \"10.1021/acs.chemrev.5b00313\", \n",
            "        \"prism:eIssn\": \"15206890\", \n",
            "        \"prism:issn\": \"00092665\", \n",
            "        \"prism:url\": \"https://api.elsevier.com/content/abstract/scopus_id/85009080617\"\n",
            "    }, \n",
            "    {\n",
            "        \"@_fa\": \"true\", \n",
            "        \"affiliation\": [\n",
            "            {\n",
            "                \"@_fa\": \"true\", \n",
            "                \"affiliation-city\": \"Chengdu\", \n",
            "                \"affiliation-country\": \"China\", \n",
            "                \"affiliation-url\": \"https://api.elsevier.com/content/affiliation/affiliation_id/60016521\", \n",
            "                \"affilname\": \"Sichuan University\", \n",
            "                \"afid\": \"60016521\"\n",
            "            }\n",
            "        ], \n",
            "        \"author\": [\n",
            "            {\n",
            "                \"@_fa\": \"true\", \n",
            "                \"@seq\": \"1\", \n",
            "                \"afid\": [\n",
            "                    {\n",
            "                        \"$\": \"60016521\", \n",
            "                        \"@_fa\": \"true\"\n",
            "                    }\n",
            "                ], \n",
            "                \"authid\": \"56975760600\", \n",
            "                \"authname\": \"Liang S.\", \n",
            "                \"author-url\": \"https://api.elsevier.com/content/author/author_id/56975760600\", \n",
            "                \"given-name\": \"Shan\", \n",
            "                \"initials\": \"S.\", \n",
            "                \"surname\": \"Liang\"\n",
            "            }, \n",
            "            {\n",
            "                \"@_fa\": \"true\", \n",
            "                \"@seq\": \"2\", \n",
            "                \"afid\": [\n",
            "                    {\n",
            "                        \"$\": \"60016521\", \n",
            "                        \"@_fa\": \"true\"\n",
            "                    }\n",
            "                ], \n",
            "                \"authid\": \"35109987700\", \n",
            "                \"authname\": \"Shi Q.\", \n",
            "                \"author-url\": \"https://api.elsevier.com/content/author/author_id/35109987700\", \n",
            "                \"given-name\": \"Qiwu\", \n",
            "                \"initials\": \"Q.\", \n",
            "                \"surname\": \"Shi\"\n",
            "            }, \n",
            "            {\n",
            "                \"@_fa\": \"true\", \n",
            "                \"@seq\": \"3\", \n",
            "                \"afid\": [\n",
            "                    {\n",
            "                        \"$\": \"60016521\", \n",
            "                        \"@_fa\": \"true\"\n",
            "                    }\n",
            "                ], \n",
            "                \"authid\": \"56975611300\", \n",
            "                \"authname\": \"Zhu H.\", \n",
            "                \"author-url\": \"https://api.elsevier.com/content/author/author_id/56975611300\", \n",
            "                \"given-name\": \"Hongfu\", \n",
            "                \"initials\": \"H.\", \n",
            "                \"surname\": \"Zhu\"\n",
            "            }, \n",
            "            {\n",
            "                \"@_fa\": \"true\", \n",
            "                \"@seq\": \"4\", \n",
            "                \"afid\": [\n",
            "                    {\n",
            "                        \"$\": \"60016521\", \n",
            "                        \"@_fa\": \"true\"\n",
            "                    }\n",
            "                ], \n",
            "                \"authid\": \"57213932029\", \n",
            "                \"authname\": \"Peng B.\", \n",
            "                \"author-url\": \"https://api.elsevier.com/content/author/author_id/57213932029\", \n",
            "                \"given-name\": \"Bo\", \n",
            "                \"initials\": \"B.\", \n",
            "                \"surname\": \"Peng\"\n",
            "            }, \n",
            "            {\n",
            "                \"@_fa\": \"true\", \n",
            "                \"@seq\": \"5\", \n",
            "                \"afid\": [\n",
            "                    {\n",
            "                        \"$\": \"60016521\", \n",
            "                        \"@_fa\": \"true\"\n",
            "                    }\n",
            "                ], \n",
            "                \"authid\": \"57192370531\", \n",
            "                \"authname\": \"Huang W.\", \n",
            "                \"author-url\": \"https://api.elsevier.com/content/author/author_id/57192370531\", \n",
            "                \"given-name\": \"Wanxia\", \n",
            "                \"initials\": \"W.\", \n",
            "                \"surname\": \"Huang\"\n",
            "            }\n",
            "        ], \n",
            "        \"dc:description\": \"Vanadium dioxide (VO2), with reversible metal-semiconductor transition near room temperature, is a compelling candidate for thermochromic windows. Nanocomposite coatings derived from VO2 nanoparticles are particularly superior to VO2 films due to their advantages in large-scale preparation, flexible shaping, and regulation of optical properties. In this work, we developed a novel method for one-step hydrothermal synthesis of W-doped VO2 (M) nanorods and studied their application in large-scale infrared smart windows. On introducing tartaric acid as a new reductant, VO2 underwent a two-stage phase evolution from the pure phase comprising VO2 (A) nanobelts to VO2 (M) nanorods, instead of the conventional three-stage B-A-M phase evolution during hydrothermal synthesis. This transition is very favorable for the large-scale hydrothermal synthesis of VO2 (M). The phase-transition temperature of VO2 (M) nanoparticles can be regulated systematically by W doping, with a reduction efficiency of about 24.52 \\u00b0C/atom % W. Moreover, VO2 (M) composite films were fabricated using a convenient roller coating method, which exhibited significant midinfrared transmission switching up to 31%, with a phase-transition temperature of about 37.3 \\u00b0C. This work demonstrates the significant progress in the one-step hydrothermal synthesis of VO2 (M) nanorods and provides significant insights into their applications in infrared smart windows.\", \n",
            "        \"dc:title\": \"One-Step hydrothermal synthesis of W-Doped VO2 (M) nanorods with a tunable phase-transition temperature for infrared smart windows\", \n",
            "        \"prism:coverDate\": \"2016-12-31\", \n",
            "        \"prism:doi\": \"10.1021/acsomega.6b00221\", \n",
            "        \"prism:eIssn\": \"24701343\", \n",
            "        \"prism:url\": \"https://api.elsevier.com/content/abstract/scopus_id/85029156327\"\n",
            "    }\n",
            "]\n"
          ],
          "name": "stdout"
        }
      ]
    },
    {
      "cell_type": "markdown",
      "metadata": {
        "id": "hpU_ASrMxnx-"
      },
      "source": [
        "Para crear un objeto de python a partir de un texto en formato .json lo hacemos de la siguiente manera:"
      ]
    },
    {
      "cell_type": "code",
      "metadata": {
        "id": "pc-V2b36kpGT"
      },
      "source": [
        "# Creamos un objeto de python a partir de los datos json\n",
        "json_data = json.loads(json_text)"
      ],
      "execution_count": null,
      "outputs": []
    },
    {
      "cell_type": "markdown",
      "metadata": {
        "id": "pmdBuaD6x1N9"
      },
      "source": [
        "Otra forma de hacer lo mismo de antes más corto es con .load() (esto lee un objeto *file*), en vez loads() (la s es que lee un *string*):\n",
        "~~~\n",
        "json_data = json.load(open('prueba.json','r'))\n",
        "~~~\n"
      ]
    },
    {
      "cell_type": "markdown",
      "metadata": {
        "id": "gapY17j3yR4N"
      },
      "source": [
        "##### Inspección de objeto JSON\n",
        "\n",
        "Veamos qué tipo de dato obtuvimos. Lo usual es encontrarnos con una lista o un diccionario de python."
      ]
    },
    {
      "cell_type": "code",
      "metadata": {
        "colab": {
          "base_uri": "https://localhost:8080/"
        },
        "id": "IEjzDGQrt3wA",
        "outputId": "4c18af3c-1693-4747-9d23-01f70f084c7c"
      },
      "source": [
        "# Tipo de dato del objeto json\n",
        "type(json_data)"
      ],
      "execution_count": null,
      "outputs": [
        {
          "output_type": "execute_result",
          "data": {
            "text/plain": [
              "list"
            ]
          },
          "metadata": {
            "tags": []
          },
          "execution_count": 9
        }
      ]
    },
    {
      "cell_type": "markdown",
      "metadata": {
        "id": "EvoWtZlBy1ml"
      },
      "source": [
        "Este ejemplo se corresponde a una lista. Veamos la cantidad de elementos y el tipo de dato del primero de ellos:"
      ]
    },
    {
      "cell_type": "code",
      "metadata": {
        "colab": {
          "base_uri": "https://localhost:8080/"
        },
        "id": "uDnSexJ5y0ZR",
        "outputId": "0abc32e8-4d68-4321-ed62-396473531d66"
      },
      "source": [
        "# Cantidad de elementos en la lista\n",
        "print(len(json_data))\n",
        "\n",
        "# Tipo de datos del primer elemento\n",
        "type(json_data[0])"
      ],
      "execution_count": null,
      "outputs": [
        {
          "output_type": "stream",
          "text": [
            "5\n"
          ],
          "name": "stdout"
        },
        {
          "output_type": "execute_result",
          "data": {
            "text/plain": [
              "dict"
            ]
          },
          "metadata": {
            "tags": []
          },
          "execution_count": 10
        }
      ]
    },
    {
      "cell_type": "markdown",
      "metadata": {
        "id": "M-8YJkR4zp0I"
      },
      "source": [
        "El primer elemento es un diccionario por ejemplo (en realidad este objeto es una lista de diccionarios). Podemos ver las *keys* de este e inspeccionar cada valor:"
      ]
    },
    {
      "cell_type": "code",
      "metadata": {
        "colab": {
          "base_uri": "https://localhost:8080/"
        },
        "id": "G_qoTttpk4KN",
        "outputId": "c0890bfe-6185-4852-d595-963c4349792d"
      },
      "source": [
        "# Keys del diccionario del primer elemento\n",
        "print(json_data[0].keys())"
      ],
      "execution_count": null,
      "outputs": [
        {
          "output_type": "stream",
          "text": [
            "dict_keys(['@_fa', 'affiliation', 'author', 'dc:description', 'dc:title', 'prism:coverDate', 'prism:doi', 'prism:eIssn', 'prism:url'])\n"
          ],
          "name": "stdout"
        }
      ]
    },
    {
      "cell_type": "markdown",
      "metadata": {
        "id": "15lDeZvv0OHr"
      },
      "source": [
        "Vemos algunas entradas: "
      ]
    },
    {
      "cell_type": "code",
      "metadata": {
        "colab": {
          "base_uri": "https://localhost:8080/"
        },
        "id": "ZSZ1ok-40Q-o",
        "outputId": "40632b69-0a54-412d-96b9-9882608ad071"
      },
      "source": [
        "# Título del artículo\n",
        "print('Titulo:')\n",
        "print(json_data[0]['dc:title'])\n",
        "\n",
        "# Resumen del artículo\n",
        "print('Resumen:')\n",
        "print(json_data[0]['dc:description'])"
      ],
      "execution_count": null,
      "outputs": [
        {
          "output_type": "stream",
          "text": [
            "Titulo:\n",
            "Dealloying of nitrogen-introduced pt-co alloy nanoparticles: Preferential core-shell formation with enhanced activity for oxygen reduction reaction\n",
            "Resumen:\n",
            "Voltammetric dealloying is a typical method to synthesize Pt-shell/less-noble metal (M) alloy core nanoparticles (NPs) toward the oxygen reduction reaction (ORR). The pristine nanostructures of the Pt-M alloy NPs should determine the ORR activity of the dealloyed NPs. In this study, we investigated the voltammetric dealloying behavior of the Pt-Co and nitrogenintroduced Pt-Co alloy NPs generated by synchronous arc-plasma deposition of Pt and Co. The results showed that the dealloying behavior is sensitive to cobalt nitride in the pristine NPs, leading to the preferential generation of a Pt-rich shell/Pt-Co alloy core architecture having enhanced ORR activity.\n"
          ],
          "name": "stdout"
        }
      ]
    },
    {
      "cell_type": "markdown",
      "metadata": {
        "id": "D8Bzm9dy0jul"
      },
      "source": [
        "También hay entradas que pueden contener listas u otros diccionarios, como la lista de autores en este caso:"
      ]
    },
    {
      "cell_type": "code",
      "metadata": {
        "colab": {
          "base_uri": "https://localhost:8080/"
        },
        "id": "jKuOqqpi0o3w",
        "outputId": "d8e9f271-bd34-4b33-eb75-ec852b5db671"
      },
      "source": [
        "type(json_data[0]['author'])"
      ],
      "execution_count": null,
      "outputs": [
        {
          "output_type": "execute_result",
          "data": {
            "text/plain": [
              "list"
            ]
          },
          "metadata": {
            "tags": []
          },
          "execution_count": 13
        }
      ]
    },
    {
      "cell_type": "code",
      "metadata": {
        "colab": {
          "base_uri": "https://localhost:8080/"
        },
        "id": "AUosy_7204el",
        "outputId": "aafa9de6-00df-4304-b3a2-d6202846075a"
      },
      "source": [
        "# Primer author del primer artículo\n",
        "print(json_data[0]['author'][0])\n",
        "\n",
        "# Nombre del primer author\n",
        "print('Nombre:')\n",
        "print(json_data[0]['author'][0]['authname'])"
      ],
      "execution_count": null,
      "outputs": [
        {
          "output_type": "stream",
          "text": [
            "{'@_fa': 'true', '@seq': '1', 'afid': [{'$': '60008435', '@_fa': 'true'}], 'authid': '56587183800', 'authname': 'Takahashi S.', 'author-url': 'https://api.elsevier.com/content/author/author_id/56587183800', 'given-name': 'Shuntaro', 'initials': 'S.', 'surname': 'Takahashi'}\n",
            "Nombre:\n",
            "Takahashi S.\n"
          ],
          "name": "stdout"
        }
      ]
    },
    {
      "cell_type": "markdown",
      "metadata": {
        "id": "PRl9aZCDO7qk"
      },
      "source": [
        "Finalemente, hagamos una iteración para obtener el título de todas las publicaciones contenidas en esta base de datos:"
      ]
    },
    {
      "cell_type": "code",
      "metadata": {
        "colab": {
          "base_uri": "https://localhost:8080/"
        },
        "id": "sD3sC5eyPCxi",
        "outputId": "dd0c3456-dbbc-46d8-fc4d-6469f63ce790"
      },
      "source": [
        "for i in range(len(json_data)):\n",
        "  print(json_data[i]['dc:title'])"
      ],
      "execution_count": null,
      "outputs": [
        {
          "output_type": "stream",
          "text": [
            "Dealloying of nitrogen-introduced pt-co alloy nanoparticles: Preferential core-shell formation with enhanced activity for oxygen reduction reaction\n",
            "A novel electrochemical nanosensor for voltammetric determination of isoproterenol\n",
            "A study of polybromide chain formation using carbon nanomaterials via density functional theory approach\n",
            "Rare earth metal-mediated precision polymerization of vinylphosphonates and conjugated nitrogen-containing vinyl monomers\n",
            "One-Step hydrothermal synthesis of W-Doped VO2 (M) nanorods with a tunable phase-transition temperature for infrared smart windows\n"
          ],
          "name": "stdout"
        }
      ]
    },
    {
      "cell_type": "markdown",
      "metadata": {
        "id": "vf48WEjCtND4"
      },
      "source": [
        "### Formato XML\n",
        "\n",
        "El otro tipo de dato que devuelven típicamente las APIs es el formato xml. Este está estructurado mediante *tags* de la misma manera en la que están ordenados archivos *html*. [Aquí](https://www.w3schools.com/xml/default.asp) una buena referencia para el formato xml. \n",
        "Para transformar en un objeto de python datos en formato xml vamos a utilizar la librería [**BeautifulSoup**](https://www.crummy.com/software/BeautifulSoup/bs4/doc/) (¡que maravilla esta sopa!) que sirve para todo tipo de formato taggeado como *html*.\n",
        "Los datos los extraímos de la API de [*Arxiv*](https://arxiv.org/help/api/basics), que tiene información de pre-publicaciones (versiones de papers previas a la revisión de pares).\n",
        "\n"
      ]
    },
    {
      "cell_type": "code",
      "metadata": {
        "id": "nTw2_JVXk8EL"
      },
      "source": [
        "# Importamos la librería beautifulsoup \n",
        "from bs4 import BeautifulSoup as BS"
      ],
      "execution_count": null,
      "outputs": []
    },
    {
      "cell_type": "markdown",
      "metadata": {
        "id": "X94KREqLLTsO"
      },
      "source": [
        "Veamos com se ve un archivo xml:"
      ]
    },
    {
      "cell_type": "code",
      "metadata": {
        "colab": {
          "base_uri": "https://localhost:8080/"
        },
        "id": "z1Xn78LbrpZO",
        "outputId": "836431e3-ea35-4047-c3a4-fea9301958b4"
      },
      "source": [
        "# Carguemos el texto del archivo de xml\n",
        "xml_text = open('/content/drive/My Drive/LaboDatos2021/data_tutorial.xml', 'r').read()\n",
        "\n",
        "# Printiemos el texto xml\n",
        "print(xml_text)"
      ],
      "execution_count": null,
      "outputs": [
        {
          "output_type": "stream",
          "text": [
            "<?xml version=\"1.0\" encoding=\"UTF-8\"?>\n",
            "<feed xmlns=\"http://www.w3.org/2005/Atom\">\n",
            "  <link href=\"http://arxiv.org/api/query?search_query%3Dall%3Anetwork%26id_list%3D%26start%3D0%26max_results%3D5\" rel=\"self\" type=\"application/atom+xml\"/>\n",
            "  <title type=\"html\">ArXiv Query: search_query=all:network&amp;id_list=&amp;start=0&amp;max_results=5</title>\n",
            "  <id>http://arxiv.org/api/tPE9XocbOXlz0ZowKf7LtUNnyFY</id>\n",
            "  <updated>2021-05-25T00:00:00-04:00</updated>\n",
            "  <opensearch:totalResults xmlns:opensearch=\"http://a9.com/-/spec/opensearch/1.1/\">175521</opensearch:totalResults>\n",
            "  <opensearch:startIndex xmlns:opensearch=\"http://a9.com/-/spec/opensearch/1.1/\">0</opensearch:startIndex>\n",
            "  <opensearch:itemsPerPage xmlns:opensearch=\"http://a9.com/-/spec/opensearch/1.1/\">5</opensearch:itemsPerPage>\n",
            "  <entry>\n",
            "    <id>http://arxiv.org/abs/2105.11450v1</id>\n",
            "    <updated>2021-05-24T17:58:36Z</updated>\n",
            "    <published>2021-05-24T17:58:36Z</published>\n",
            "    <title>SAT: 2D Semantics Assisted Training for 3D Visual Grounding</title>\n",
            "    <summary>  3D visual grounding aims at grounding a natural language description about a\n",
            "3D scene, usually represented in the form of 3D point clouds, to the targeted\n",
            "object region. Point clouds are sparse, noisy, and contain limited semantic\n",
            "information compared with 2D images. These inherent limitations make the 3D\n",
            "visual grounding problem more challenging. In this study, we propose 2D\n",
            "Semantics Assisted Training (SAT) that utilizes 2D image semantics in the\n",
            "training stage to ease point-cloud-language joint representation learning and\n",
            "assist 3D visual grounding. The main idea is to learn auxiliary alignments\n",
            "between rich, clean 2D object representations and the corresponding objects or\n",
            "mentioned entities in 3D scenes. SAT takes 2D object semantics, i.e., object\n",
            "label, image feature, and 2D geometric feature, as the extra input in training\n",
            "but does not require such inputs during inference. By effectively utilizing 2D\n",
            "semantics in training, our approach boosts the accuracy on the Nr3D dataset\n",
            "from 37.7% to 49.2%, which significantly surpasses the non-SAT baseline with\n",
            "the identical network architecture and inference input. Our approach\n",
            "outperforms the state of the art by large margins on multiple 3D visual\n",
            "grounding datasets, i.e., +10.4% absolute accuracy on Nr3D, +9.9% on Sr3D, and\n",
            "+5.6% on ScanRef.\n",
            "</summary>\n",
            "    <author>\n",
            "      <name>Zhengyuan Yang</name>\n",
            "    </author>\n",
            "    <author>\n",
            "      <name>Songyang Zhang</name>\n",
            "    </author>\n",
            "    <author>\n",
            "      <name>Liwei Wang</name>\n",
            "    </author>\n",
            "    <author>\n",
            "      <name>Jiebo Luo</name>\n",
            "    </author>\n",
            "    <link href=\"http://arxiv.org/abs/2105.11450v1\" rel=\"alternate\" type=\"text/html\"/>\n",
            "    <link title=\"pdf\" href=\"http://arxiv.org/pdf/2105.11450v1\" rel=\"related\" type=\"application/pdf\"/>\n",
            "    <arxiv:primary_category xmlns:arxiv=\"http://arxiv.org/schemas/atom\" term=\"cs.CV\" scheme=\"http://arxiv.org/schemas/atom\"/>\n",
            "    <category term=\"cs.CV\" scheme=\"http://arxiv.org/schemas/atom\"/>\n",
            "  </entry>\n",
            "  <entry>\n",
            "    <id>http://arxiv.org/abs/2105.11444v1</id>\n",
            "    <updated>2021-05-24T17:54:27Z</updated>\n",
            "    <published>2021-05-24T17:54:27Z</published>\n",
            "    <title>MillimeterDL: Deep Learning Simulations of the Microwave Sky</title>\n",
            "    <summary>  We present 500 high-resolution, full-sky millimeter-wave Deep Learning (DL)\n",
            "simulations that include lensed CMB maps and correlated foreground components.\n",
            "We find that these MillimeterDL simulations can reproduce a wide range of\n",
            "non-Gaussian summary statistics matching the input training simulations, while\n",
            "only being optimized to match the power spectra. The procedure we develop in\n",
            "this work enables the capability to mass produce independent full-sky\n",
            "realizations from a single expensive full-sky simulation, when ordinarily the\n",
            "latter would not provide enough training data. We also circumvent a common\n",
            "limitation of high-resolution DL simulations that they be confined to small sky\n",
            "areas, often due to memory or GPU issues; we do this by developing a\n",
            "\"stitching\" procedure that can faithfully recover the high-order statistics of\n",
            "a full-sky map without discontinuities or repeated features. In addition, since\n",
            "our network takes as input a full-sky lensing convergence map, it can in\n",
            "principle take a full-sky lensing convergence map from any large-scale\n",
            "structure (LSS) simulation and generate the corresponding lensed CMB and\n",
            "correlated foreground components at millimeter wavelengths; this is especially\n",
            "useful in the current era of combining results from both CMB and LSS surveys,\n",
            "which require a common set of simulations.\n",
            "</summary>\n",
            "    <author>\n",
            "      <name>Dongwon Han</name>\n",
            "    </author>\n",
            "    <author>\n",
            "      <name>Neelima Sehgal</name>\n",
            "    </author>\n",
            "    <author>\n",
            "      <name>Francisco Villaescusa-Navarro</name>\n",
            "    </author>\n",
            "    <arxiv:comment xmlns:arxiv=\"http://arxiv.org/schemas/atom\">Sims are now public on NERSC at\n",
            "  /global/cfs/cdirs/cmb/data/generic/mmDL; see also\n",
            "  https://lambda.gsfc.nasa.gov/simulation/tb_sim_ov.cfm on LAMBDA</arxiv:comment>\n",
            "    <link href=\"http://arxiv.org/abs/2105.11444v1\" rel=\"alternate\" type=\"text/html\"/>\n",
            "    <link title=\"pdf\" href=\"http://arxiv.org/pdf/2105.11444v1\" rel=\"related\" type=\"application/pdf\"/>\n",
            "    <arxiv:primary_category xmlns:arxiv=\"http://arxiv.org/schemas/atom\" term=\"astro-ph.CO\" scheme=\"http://arxiv.org/schemas/atom\"/>\n",
            "    <category term=\"astro-ph.CO\" scheme=\"http://arxiv.org/schemas/atom\"/>\n",
            "  </entry>\n",
            "  <entry>\n",
            "    <id>http://arxiv.org/abs/2104.14294v2</id>\n",
            "    <updated>2021-05-24T17:49:18Z</updated>\n",
            "    <published>2021-04-29T12:28:51Z</published>\n",
            "    <title>Emerging Properties in Self-Supervised Vision Transformers</title>\n",
            "    <summary>  In this paper, we question if self-supervised learning provides new\n",
            "properties to Vision Transformer (ViT) that stand out compared to convolutional\n",
            "networks (convnets). Beyond the fact that adapting self-supervised methods to\n",
            "this architecture works particularly well, we make the following observations:\n",
            "first, self-supervised ViT features contain explicit information about the\n",
            "semantic segmentation of an image, which does not emerge as clearly with\n",
            "supervised ViTs, nor with convnets. Second, these features are also excellent\n",
            "k-NN classifiers, reaching 78.3% top-1 on ImageNet with a small ViT. Our study\n",
            "also underlines the importance of momentum encoder, multi-crop training, and\n",
            "the use of small patches with ViTs. We implement our findings into a simple\n",
            "self-supervised method, called DINO, which we interpret as a form of\n",
            "self-distillation with no labels. We show the synergy between DINO and ViTs by\n",
            "achieving 80.1% top-1 on ImageNet in linear evaluation with ViT-Base.\n",
            "</summary>\n",
            "    <author>\n",
            "      <name>Mathilde Caron</name>\n",
            "    </author>\n",
            "    <author>\n",
            "      <name>Hugo Touvron</name>\n",
            "    </author>\n",
            "    <author>\n",
            "      <name>Ishan Misra</name>\n",
            "    </author>\n",
            "    <author>\n",
            "      <name>Hervé Jégou</name>\n",
            "    </author>\n",
            "    <author>\n",
            "      <name>Julien Mairal</name>\n",
            "    </author>\n",
            "    <author>\n",
            "      <name>Piotr Bojanowski</name>\n",
            "    </author>\n",
            "    <author>\n",
            "      <name>Armand Joulin</name>\n",
            "    </author>\n",
            "    <arxiv:comment xmlns:arxiv=\"http://arxiv.org/schemas/atom\">21 pages</arxiv:comment>\n",
            "    <link href=\"http://arxiv.org/abs/2104.14294v2\" rel=\"alternate\" type=\"text/html\"/>\n",
            "    <link title=\"pdf\" href=\"http://arxiv.org/pdf/2104.14294v2\" rel=\"related\" type=\"application/pdf\"/>\n",
            "    <arxiv:primary_category xmlns:arxiv=\"http://arxiv.org/schemas/atom\" term=\"cs.CV\" scheme=\"http://arxiv.org/schemas/atom\"/>\n",
            "    <category term=\"cs.CV\" scheme=\"http://arxiv.org/schemas/atom\"/>\n",
            "  </entry>\n",
            "  <entry>\n",
            "    <id>http://arxiv.org/abs/2105.11427v1</id>\n",
            "    <updated>2021-05-24T17:34:57Z</updated>\n",
            "    <published>2021-05-24T17:34:57Z</published>\n",
            "    <title>Attention-guided Temporal Coherent Video Object Matting</title>\n",
            "    <summary>  This paper proposes a novel deep learning-based video object matting method\n",
            "that can achieve temporally coherent matting results. Its key component is an\n",
            "attention-based temporal aggregation module that maximizes image matting\n",
            "networks' strength for video matting networks. This module computes temporal\n",
            "correlations for pixels adjacent to each other along the time axis in feature\n",
            "space to be robust against motion noises. We also design a novel loss term to\n",
            "train the attention weights, which drastically boosts the video matting\n",
            "performance. Besides, we show how to effectively solve the trimap generation\n",
            "problem by fine-tuning a state-of-the-art video object segmentation network\n",
            "with a sparse set of user-annotated keyframes. To facilitate video matting and\n",
            "trimap generation networks' training, we construct a large-scale video matting\n",
            "dataset with 80 training and 28 validation foreground video clips with\n",
            "ground-truth alpha mattes. Experimental results show that our method can\n",
            "generate high-quality alpha mattes for various videos featuring appearance\n",
            "change, occlusion, and fast motion. Our code and dataset can be found at\n",
            "https://github.com/yunkezhang/TCVOM\n",
            "</summary>\n",
            "    <author>\n",
            "      <name>Yunke Zhang</name>\n",
            "    </author>\n",
            "    <author>\n",
            "      <name>Chi Wang</name>\n",
            "    </author>\n",
            "    <author>\n",
            "      <name>Miaomiao Cui</name>\n",
            "    </author>\n",
            "    <author>\n",
            "      <name>Peiran Ren</name>\n",
            "    </author>\n",
            "    <author>\n",
            "      <name>Xuansong Xie</name>\n",
            "    </author>\n",
            "    <author>\n",
            "      <name>Xian-sheng Hua</name>\n",
            "    </author>\n",
            "    <author>\n",
            "      <name>Hujun Bao</name>\n",
            "    </author>\n",
            "    <author>\n",
            "      <name>Qixing Huang</name>\n",
            "    </author>\n",
            "    <author>\n",
            "      <name>Weiwei Xu</name>\n",
            "    </author>\n",
            "    <arxiv:comment xmlns:arxiv=\"http://arxiv.org/schemas/atom\">10 pages, 6 figures</arxiv:comment>\n",
            "    <link href=\"http://arxiv.org/abs/2105.11427v1\" rel=\"alternate\" type=\"text/html\"/>\n",
            "    <link title=\"pdf\" href=\"http://arxiv.org/pdf/2105.11427v1\" rel=\"related\" type=\"application/pdf\"/>\n",
            "    <arxiv:primary_category xmlns:arxiv=\"http://arxiv.org/schemas/atom\" term=\"cs.CV\" scheme=\"http://arxiv.org/schemas/atom\"/>\n",
            "    <category term=\"cs.CV\" scheme=\"http://arxiv.org/schemas/atom\"/>\n",
            "  </entry>\n",
            "  <entry>\n",
            "    <id>http://arxiv.org/abs/2010.08852v2</id>\n",
            "    <updated>2021-05-24T17:31:04Z</updated>\n",
            "    <published>2020-10-17T19:28:35Z</published>\n",
            "    <title>Weight-Covariance Alignment for Adversarially Robust Neural Networks</title>\n",
            "    <summary>  Stochastic Neural Networks (SNNs) that inject noise into their hidden layers\n",
            "have recently been shown to achieve strong robustness against adversarial\n",
            "attacks. However, existing SNNs are usually heuristically motivated, and often\n",
            "rely on adversarial training, which is computationally costly. We propose a new\n",
            "SNN that achieves state-of-the-art performance without relying on adversarial\n",
            "training, and enjoys solid theoretical justification. Specifically, while\n",
            "existing SNNs inject learned or hand-tuned isotropic noise, our SNN learns an\n",
            "anisotropic noise distribution to optimize a learning-theoretic bound on\n",
            "adversarial robustness. We evaluate our method on a number of popular\n",
            "benchmarks, show that it can be applied to different architectures, and that it\n",
            "provides robustness to a variety of white-box and black-box attacks, while\n",
            "being simple and fast to train compared to existing alternatives.\n",
            "</summary>\n",
            "    <author>\n",
            "      <name>Panagiotis Eustratiadis</name>\n",
            "    </author>\n",
            "    <author>\n",
            "      <name>Henry Gouk</name>\n",
            "    </author>\n",
            "    <author>\n",
            "      <name>Da Li</name>\n",
            "    </author>\n",
            "    <author>\n",
            "      <name>Timothy Hospedales</name>\n",
            "    </author>\n",
            "    <link href=\"http://arxiv.org/abs/2010.08852v2\" rel=\"alternate\" type=\"text/html\"/>\n",
            "    <link title=\"pdf\" href=\"http://arxiv.org/pdf/2010.08852v2\" rel=\"related\" type=\"application/pdf\"/>\n",
            "    <arxiv:primary_category xmlns:arxiv=\"http://arxiv.org/schemas/atom\" term=\"cs.LG\" scheme=\"http://arxiv.org/schemas/atom\"/>\n",
            "    <category term=\"cs.LG\" scheme=\"http://arxiv.org/schemas/atom\"/>\n",
            "    <category term=\"cs.CR\" scheme=\"http://arxiv.org/schemas/atom\"/>\n",
            "    <category term=\"cs.CV\" scheme=\"http://arxiv.org/schemas/atom\"/>\n",
            "  </entry>\n",
            "</feed>\n",
            "\n"
          ],
          "name": "stdout"
        }
      ]
    },
    {
      "cell_type": "markdown",
      "metadata": {
        "id": "12afagtkMABa"
      },
      "source": [
        "Aquí el análisis de de los xml es un poco más intrincado con el formato json. El primer paso es convertir la data de texto en un objeto de python:"
      ]
    },
    {
      "cell_type": "code",
      "metadata": {
        "id": "QhxiZaynrwcG"
      },
      "source": [
        "# Creamos un objeto de python a partir del texto de xml\n",
        "xml_data = BS(xml_text)"
      ],
      "execution_count": null,
      "outputs": []
    },
    {
      "cell_type": "markdown",
      "metadata": {
        "id": "xc6p9qcfMamn"
      },
      "source": [
        "En este ejemplo en particular, la información sobre las publicaciones están dentro de etiquetas denominadas *entry*. Por lo tanto creamos una lista de todos los papers buscando todos los elementos bajo dicha etiqueta:"
      ]
    },
    {
      "cell_type": "code",
      "metadata": {
        "id": "0633Nry1rxnA"
      },
      "source": [
        "# Llamamos al método \"buscá todo\" del objeto xml_data\n",
        "entries = xml_data.find_all('entry')"
      ],
      "execution_count": null,
      "outputs": []
    },
    {
      "cell_type": "markdown",
      "metadata": {
        "id": "oYmPbZc-M5yX"
      },
      "source": [
        "Veamos por ejemplo lo contenido dentro de la primera publicación:"
      ]
    },
    {
      "cell_type": "code",
      "metadata": {
        "colab": {
          "base_uri": "https://localhost:8080/"
        },
        "id": "JSwyyzzDM5ag",
        "outputId": "ca3ffa8b-4e29-477c-9881-39a7fb0e2be6"
      },
      "source": [
        "print(len(entries))\n",
        "print(entries[0])"
      ],
      "execution_count": null,
      "outputs": [
        {
          "output_type": "stream",
          "text": [
            "5\n",
            "<entry>\n",
            "<id>http://arxiv.org/abs/2105.11450v1</id>\n",
            "<updated>2021-05-24T17:58:36Z</updated>\n",
            "<published>2021-05-24T17:58:36Z</published>\n",
            "<title>SAT: 2D Semantics Assisted Training for 3D Visual Grounding</title>\n",
            "<summary>  3D visual grounding aims at grounding a natural language description about a\n",
            "3D scene, usually represented in the form of 3D point clouds, to the targeted\n",
            "object region. Point clouds are sparse, noisy, and contain limited semantic\n",
            "information compared with 2D images. These inherent limitations make the 3D\n",
            "visual grounding problem more challenging. In this study, we propose 2D\n",
            "Semantics Assisted Training (SAT) that utilizes 2D image semantics in the\n",
            "training stage to ease point-cloud-language joint representation learning and\n",
            "assist 3D visual grounding. The main idea is to learn auxiliary alignments\n",
            "between rich, clean 2D object representations and the corresponding objects or\n",
            "mentioned entities in 3D scenes. SAT takes 2D object semantics, i.e., object\n",
            "label, image feature, and 2D geometric feature, as the extra input in training\n",
            "but does not require such inputs during inference. By effectively utilizing 2D\n",
            "semantics in training, our approach boosts the accuracy on the Nr3D dataset\n",
            "from 37.7% to 49.2%, which significantly surpasses the non-SAT baseline with\n",
            "the identical network architecture and inference input. Our approach\n",
            "outperforms the state of the art by large margins on multiple 3D visual\n",
            "grounding datasets, i.e., +10.4% absolute accuracy on Nr3D, +9.9% on Sr3D, and\n",
            "+5.6% on ScanRef.\n",
            "</summary>\n",
            "<author>\n",
            "<name>Zhengyuan Yang</name>\n",
            "</author>\n",
            "<author>\n",
            "<name>Songyang Zhang</name>\n",
            "</author>\n",
            "<author>\n",
            "<name>Liwei Wang</name>\n",
            "</author>\n",
            "<author>\n",
            "<name>Jiebo Luo</name>\n",
            "</author>\n",
            "<link href=\"http://arxiv.org/abs/2105.11450v1\" rel=\"alternate\" type=\"text/html\"/>\n",
            "<link href=\"http://arxiv.org/pdf/2105.11450v1\" rel=\"related\" title=\"pdf\" type=\"application/pdf\"/>\n",
            "<arxiv:primary_category scheme=\"http://arxiv.org/schemas/atom\" term=\"cs.CV\" xmlns:arxiv=\"http://arxiv.org/schemas/atom\"></arxiv:primary_category>\n",
            "<category scheme=\"http://arxiv.org/schemas/atom\" term=\"cs.CV\"></category>\n",
            "</entry>\n"
          ],
          "name": "stdout"
        }
      ]
    },
    {
      "cell_type": "markdown",
      "metadata": {
        "id": "tOXcUAeGNjos"
      },
      "source": [
        "Podemos acceder a la información de cada uno de los elementos dentro de cada publicación de diferentes maneras. Por ejemplo, veamos el elemento *title* (título de la publicación):"
      ]
    },
    {
      "cell_type": "code",
      "metadata": {
        "colab": {
          "base_uri": "https://localhost:8080/"
        },
        "id": "TF5bHMkzM1iF",
        "outputId": "cb42bcdc-f6a1-4a24-9a34-fd3f5fecfdf6"
      },
      "source": [
        "print(entries[0].title)"
      ],
      "execution_count": null,
      "outputs": [
        {
          "output_type": "stream",
          "text": [
            "<title>SAT: 2D Semantics Assisted Training for 3D Visual Grounding</title>\n"
          ],
          "name": "stdout"
        }
      ]
    },
    {
      "cell_type": "markdown",
      "metadata": {
        "id": "U2heKXV6N5Yo"
      },
      "source": [
        "Cuando hablamos de elemento nos referimos a todo el objeto entre etiquetas. Para acceder solo al contenido podemos hacer por ejemplo:"
      ]
    },
    {
      "cell_type": "code",
      "metadata": {
        "colab": {
          "base_uri": "https://localhost:8080/"
        },
        "id": "qwKxC6sbr6Ek",
        "outputId": "63cfdc26-90c9-4863-d0e6-354ab3fc3574"
      },
      "source": [
        "print(entries[0].title.text)"
      ],
      "execution_count": null,
      "outputs": [
        {
          "output_type": "stream",
          "text": [
            "SAT: 2D Semantics Assisted Training for 3D Visual Grounding\n"
          ],
          "name": "stdout"
        }
      ]
    },
    {
      "cell_type": "markdown",
      "metadata": {
        "id": "Vv_jTAUsQ-PB"
      },
      "source": [
        "Otro ejemplo es el resumen de la publicación (elemento *summary*):"
      ]
    },
    {
      "cell_type": "code",
      "metadata": {
        "colab": {
          "base_uri": "https://localhost:8080/"
        },
        "id": "FebNPsCyRDQq",
        "outputId": "ee27d7bb-09f6-4527-b865-0dcb37f039d7"
      },
      "source": [
        "print(entries[0].summary.text)"
      ],
      "execution_count": null,
      "outputs": [
        {
          "output_type": "stream",
          "text": [
            "  3D visual grounding aims at grounding a natural language description about a\n",
            "3D scene, usually represented in the form of 3D point clouds, to the targeted\n",
            "object region. Point clouds are sparse, noisy, and contain limited semantic\n",
            "information compared with 2D images. These inherent limitations make the 3D\n",
            "visual grounding problem more challenging. In this study, we propose 2D\n",
            "Semantics Assisted Training (SAT) that utilizes 2D image semantics in the\n",
            "training stage to ease point-cloud-language joint representation learning and\n",
            "assist 3D visual grounding. The main idea is to learn auxiliary alignments\n",
            "between rich, clean 2D object representations and the corresponding objects or\n",
            "mentioned entities in 3D scenes. SAT takes 2D object semantics, i.e., object\n",
            "label, image feature, and 2D geometric feature, as the extra input in training\n",
            "but does not require such inputs during inference. By effectively utilizing 2D\n",
            "semantics in training, our approach boosts the accuracy on the Nr3D dataset\n",
            "from 37.7% to 49.2%, which significantly surpasses the non-SAT baseline with\n",
            "the identical network architecture and inference input. Our approach\n",
            "outperforms the state of the art by large margins on multiple 3D visual\n",
            "grounding datasets, i.e., +10.4% absolute accuracy on Nr3D, +9.9% on Sr3D, and\n",
            "+5.6% on ScanRef.\n",
            "\n"
          ],
          "name": "stdout"
        }
      ]
    },
    {
      "cell_type": "markdown",
      "metadata": {
        "id": "yIJIeH0iOJRO"
      },
      "source": [
        "Además, cada elemento es un objeto xml que tiene métodos asociados. Podemos por ejemplo obtener la lista de autores del primer paper de la siguiente manera:"
      ]
    },
    {
      "cell_type": "code",
      "metadata": {
        "colab": {
          "base_uri": "https://localhost:8080/"
        },
        "id": "R2jvWbGBs7qG",
        "outputId": "4f1e5ca4-e613-40f9-be1d-d58745a89b0c"
      },
      "source": [
        "# Buscamos todos los autores de la primera publicación\n",
        "authors = entries[0].find_all('author')\n",
        "\n",
        "print(authors)"
      ],
      "execution_count": null,
      "outputs": [
        {
          "output_type": "stream",
          "text": [
            "[<author>\n",
            "<name>Zhengyuan Yang</name>\n",
            "</author>, <author>\n",
            "<name>Songyang Zhang</name>\n",
            "</author>, <author>\n",
            "<name>Liwei Wang</name>\n",
            "</author>, <author>\n",
            "<name>Jiebo Luo</name>\n",
            "</author>]\n"
          ],
          "name": "stdout"
        }
      ]
    },
    {
      "cell_type": "markdown",
      "metadata": {
        "id": "jcOkFODYOo_n"
      },
      "source": [
        "Y finalmente podemos iterar para sacar en limpio el nombre de todos los autores:"
      ]
    },
    {
      "cell_type": "code",
      "metadata": {
        "colab": {
          "base_uri": "https://localhost:8080/"
        },
        "id": "WmgwDpSuOoWT",
        "outputId": "ca6e33aa-06e3-468d-94d7-3c6a7c788128"
      },
      "source": [
        "for element in authors:\n",
        "  print(element.text)"
      ],
      "execution_count": null,
      "outputs": [
        {
          "output_type": "stream",
          "text": [
            "\n",
            "Zhengyuan Yang\n",
            "\n",
            "\n",
            "Songyang Zhang\n",
            "\n",
            "\n",
            "Liwei Wang\n",
            "\n",
            "\n",
            "Jiebo Luo\n",
            "\n"
          ],
          "name": "stdout"
        }
      ]
    },
    {
      "cell_type": "code",
      "metadata": {
        "id": "m1-adCYyyLnE"
      },
      "source": [
        ""
      ],
      "execution_count": null,
      "outputs": []
    }
  ]
}